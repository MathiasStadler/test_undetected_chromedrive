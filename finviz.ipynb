{
 "cells": [
  {
   "cell_type": "markdown",
   "metadata": {},
   "source": [
    "# test it out "
   ]
  },
  {
   "cell_type": "markdown",
   "metadata": {},
   "source": [
    "- [FROM HERE](https://crates.io/crates/undetected-chromedriver)"
   ]
  },
  {
   "cell_type": "markdown",
   "metadata": {},
   "source": [
    "# nice article(https://scrapeops.io/selenium-web-scraping-playbook/python-selenium-undetected-chromedriver/)"
   ]
  },
  {
   "cell_type": "markdown",
   "metadata": {},
   "source": [
    "- https://scrapeops.io/selenium-web-scraping-playbook/python-selenium-undetected-chromedriver/"
   ]
  },
  {
   "cell_type": "markdown",
   "metadata": {},
   "source": [
    "- load lib"
   ]
  },
  {
   "cell_type": "code",
   "execution_count": 5,
   "metadata": {
    "vscode": {
     "languageId": "rust"
    }
   },
   "outputs": [],
   "source": [
    ":dep undetected-chromedriver = \"0.1.2\"\n",
    ":dep tokio\n",
    ":dep thirtyfour "
   ]
  },
  {
   "cell_type": "markdown",
   "metadata": {},
   "source": [
    "- call finviz.com "
   ]
  },
  {
   "cell_type": "code",
   "execution_count": 16,
   "metadata": {
    "vscode": {
     "languageId": "rust"
    }
   },
   "outputs": [],
   "source": [
    "use undetected_chromedriver::chrome;\n",
    "use tokio;\n",
    "use std::path::Path;\n",
    "\n",
    "#[tokio::main]\n",
    "async fn call_finviz_website_three() -> Result<(), Box<dyn std::error::Error>> {\n",
    "    let driver = chrome().await?;\n",
    "\n",
    "    driver.goto(\"https://www.finviz.com/\").await?;\n",
    "\n",
    "    let title = driver.title().await?;\n",
    "    println!(\"Title: {}\", title);\n",
    "\n",
    "    let os_str = Path::new(\"screenshot_finviz.png\");\n",
    "    driver.screenshot(os_str);\n",
    "\n",
    "    driver.quit().await?;\n",
    "\n",
    "    Ok(())\n",
    "}"
   ]
  },
  {
   "cell_type": "code",
   "execution_count": 17,
   "metadata": {
    "vscode": {
     "languageId": "rust"
    }
   },
   "outputs": [
    {
     "name": "stdout",
     "output_type": "stream",
     "text": [
      "ChromeDriver already exists!\n",
      "Detected patched chromedriver executable!\n",
      "Starting chromedriver...\n",
      "Starting ChromeDriver 107.0.5304.62 (1eec40d3a5764881c92085aaee66d25075c159aa-refs/branch-heads/5304@{#942}) on port 3078\n",
      "Only local connections are allowed.\n",
      "Please see https://chromedriver.chromium.org/security-considerations for suggestions on keeping ChromeDriver safe.\n",
      "ChromeDriver was started successfully.\n",
      "Title: FINVIZ.com - Stock Screener\n"
     ]
    }
   ],
   "source": [
    "call_finviz_website_three();"
   ]
  }
 ],
 "metadata": {
  "kernelspec": {
   "display_name": "Rust",
   "language": "rust",
   "name": "rust"
  },
  "language_info": {
   "codemirror_mode": "rust",
   "file_extension": ".rs",
   "mimetype": "text/rust",
   "name": "Rust",
   "pygment_lexer": "rust",
   "version": ""
  },
  "orig_nbformat": 4
 },
 "nbformat": 4,
 "nbformat_minor": 2
}
